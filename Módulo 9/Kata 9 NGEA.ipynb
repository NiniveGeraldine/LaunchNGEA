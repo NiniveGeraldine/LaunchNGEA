{
 "cells": [
  {
   "cell_type": "code",
   "execution_count": null,
   "metadata": {},
   "outputs": [],
   "source": []
  },
  {
   "cell_type": "markdown",
   "metadata": {},
   "source": [
    "Módulo 9 Funciones"
   ]
  },
  {
   "cell_type": "code",
   "execution_count": 4,
   "metadata": {},
   "outputs": [],
   "source": [
    "\n",
    "\n",
    "def generate_report(main_tank, external_tank, hydrogen_tank):\n",
    "    total_average = (main_tank + external_tank + hydrogen_tank) / 3\n",
    "    return f\"\"\"Fuel Report:\n",
    "    Total Average: {total_average}%\n",
    "    Main tank: {main_tank}%\n",
    "    External tank: {external_tank}%\n",
    "    Hydrogen tank: {hydrogen_tank}% \n",
    "    \"\"\""
   ]
  },
  {
   "cell_type": "code",
   "execution_count": 5,
   "metadata": {},
   "outputs": [
    {
     "data": {
      "text/plain": [
       "82.0"
      ]
     },
     "execution_count": 5,
     "metadata": {},
     "output_type": "execute_result"
    }
   ],
   "source": [
    "\n",
    "def average(values):\n",
    "    total = sum(values)\n",
    "    number_of_items = len(values)\n",
    "    return total / number_of_items\n",
    "\n",
    "\n",
    "average([80, 85, 81]) "
   ]
  },
  {
   "cell_type": "code",
   "execution_count": 6,
   "metadata": {},
   "outputs": [
    {
     "name": "stdout",
     "output_type": "stream",
     "text": [
      "Fuel Report:\n",
      "    Total Average: 78.0%\n",
      "    Main tank: 88%\n",
      "    External tank: 76%\n",
      "    Hydrogen tank: 70% \n",
      "    \n"
     ]
    }
   ],
   "source": [
    "\n",
    "def generate_report(main_tank, external_tank, hydrogen_tank):\n",
    "    return f\"\"\"Fuel Report:\n",
    "    Total Average: {average([main_tank, external_tank, hydrogen_tank])}%\n",
    "    Main tank: {main_tank}%\n",
    "    External tank: {external_tank}%\n",
    "    Hydrogen tank: {hydrogen_tank}% \n",
    "    \"\"\"\n",
    "\n",
    "\n",
    "print(generate_report(88, 76, 70))"
   ]
  },
  {
   "cell_type": "markdown",
   "metadata": {},
   "source": [
    "Ejercicio 2"
   ]
  },
  {
   "cell_type": "code",
   "execution_count": 7,
   "metadata": {},
   "outputs": [
    {
     "name": "stdout",
     "output_type": "stream",
     "text": [
      "\n",
      "    Mission to Moon\n",
      "    Total travel time: 65 minutes\n",
      "    Total fuel left: 500000 gallons\n",
      "    \n"
     ]
    }
   ],
   "source": [
    "\n",
    "def mission_report(pre_launch_time, flight_time, destination, external_tank, main_tank):\n",
    "    return f\"\"\"\n",
    "    Mission to {destination}\n",
    "    Total travel time: {pre_launch_time + flight_time} minutes\n",
    "    Total fuel left: {external_tank + main_tank} gallons\n",
    "    \"\"\"\n",
    "\n",
    "print(mission_report(14, 51, \"Moon\", 200000, 300000))"
   ]
  },
  {
   "cell_type": "code",
   "execution_count": 8,
   "metadata": {},
   "outputs": [
    {
     "name": "stdout",
     "output_type": "stream",
     "text": [
      "\n",
      "    Mission to Moon\n",
      "    Total travel time: 76 minutes\n",
      "    Total fuel left: 500000\n",
      "    \n"
     ]
    }
   ],
   "source": [
    "\n",
    "\n",
    "def mission_report(destination, *minutes, **fuel_reservoirs):\n",
    "    return f\"\"\"\n",
    "    Mission to {destination}\n",
    "    Total travel time: {sum(minutes)} minutes\n",
    "    Total fuel left: {sum(fuel_reservoirs.values())}\n",
    "    \"\"\"\n",
    "\n",
    "print(mission_report(\"Moon\", 10, 15, 51, main=300000, external=200000))"
   ]
  },
  {
   "cell_type": "code",
   "execution_count": 9,
   "metadata": {},
   "outputs": [
    {
     "name": "stdout",
     "output_type": "stream",
     "text": [
      "\n",
      "    Mission to Moon\n",
      "    Total travel time: 74 minutes\n",
      "    Total fuel left: 500000\n",
      "    main tank --> 300000 gallons left\n",
      "external tank --> 200000 gallons left\n",
      "\n"
     ]
    }
   ],
   "source": [
    "\n",
    "\n",
    "def mission_report(destination, *minutes, **fuel_reservoirs):\n",
    "    main_report = f\"\"\"\n",
    "    Mission to {destination}\n",
    "    Total travel time: {sum(minutes)} minutes\n",
    "    Total fuel left: {sum(fuel_reservoirs.values())}\n",
    "    \"\"\"\n",
    "    for tank_name, gallons in fuel_reservoirs.items():\n",
    "        main_report += f\"{tank_name} tank --> {gallons} gallons left\\n\"\n",
    "    return main_report\n",
    "\n",
    "print(mission_report(\"Moon\", 8, 11, 55, main=300000, external=200000))"
   ]
  }
 ],
 "metadata": {
  "interpreter": {
   "hash": "6581a533b0d465d873a225f8ed12a53b007ad47d7cc8aef54566a3fbef4beffe"
  },
  "kernelspec": {
   "display_name": "Python 3.10.2 64-bit (windows store)",
   "language": "python",
   "name": "python3"
  },
  "language_info": {
   "codemirror_mode": {
    "name": "ipython",
    "version": 3
   },
   "file_extension": ".py",
   "mimetype": "text/x-python",
   "name": "python",
   "nbconvert_exporter": "python",
   "pygments_lexer": "ipython3",
   "version": "3.10.2"
  },
  "orig_nbformat": 4
 },
 "nbformat": 4,
 "nbformat_minor": 2
}
